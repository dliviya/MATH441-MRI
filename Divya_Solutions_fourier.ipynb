{
 "cells": [
  {
   "cell_type": "code",
   "execution_count": 1,
   "id": "c237215f-712e-4f0b-aa4f-6d489821fb4f",
   "metadata": {
    "tags": []
   },
   "outputs": [
    {
     "name": "stdout",
     "output_type": "stream",
     "text": [
      "(CVXPY) Mar 26 12:07:23 PM: Encountered unexpected exception importing solver GLOP:\n",
      "RuntimeError('Unrecognized new version of ortools (9.9.3963). Expected < 9.8.0. Please open a feature request on cvxpy to enable support for this version.')\n",
      "(CVXPY) Mar 26 12:07:23 PM: Encountered unexpected exception importing solver PDLP:\n",
      "RuntimeError('Unrecognized new version of ortools (9.9.3963). Expected < 9.8.0. Please open a feature request on cvxpy to enable support for this version.')\n"
     ]
    }
   ],
   "source": [
    "import numpy as np\n",
    "import matplotlib as mpl\n",
    "import matplotlib.pyplot as plt\n",
    "import scipy.optimize as spopt\n",
    "import scipy.fftpack as spfft\n",
    "import scipy.ndimage as spimg\n",
    "import cvxpy as cvx\n",
    "from PIL import Image "
   ]
  },
  {
   "cell_type": "code",
   "execution_count": 3,
   "id": "3cf82310-81ba-4ff8-ac73-3a3a13a088dd",
   "metadata": {
    "tags": []
   },
   "outputs": [],
   "source": [
    "X_full = mpl.pyplot.imread('face.jpeg') #loading image\n",
    "X_full = X_full.mean(axis=2) #changing it to \"grayscale\"\n",
    "X = spimg.zoom(X_full, 0.15) #downsizing image\n",
    "height,width = X.shape #getting height and width of image"
   ]
  },
  {
   "cell_type": "code",
   "execution_count": 4,
   "id": "b5108436-a4e9-4c68-8bcc-731ec160c91b",
   "metadata": {
    "tags": []
   },
   "outputs": [
    {
     "data": {
      "text/plain": [
       "<matplotlib.image.AxesImage at 0x1251ac550>"
      ]
     },
     "execution_count": 4,
     "metadata": {},
     "output_type": "execute_result"
    },
    {
     "data": {
      "image/png": "[encoded data removed]",
      "text/plain": [
       "<Figure size 640x480 with 1 Axes>"
      ]
     },
     "metadata": {},
     "output_type": "display_data"
    }
   ],
   "source": [
    "plt.imshow(X)"
   ]
  },
  {
   "cell_type": "code",
   "execution_count": 7,
   "id": "6f3c60a7-e360-4f2e-84b4-aa8e53a01c9e",
   "metadata": {},
   "outputs": [],
   "source": [
    "Y = np.fft.fft2(X)"
   ]
  },
  {
   "cell_type": "code",
   "execution_count": 8,
   "id": "20d82f0f-e8a6-4695-8807-fbde621d612f",
   "metadata": {
    "tags": []
   },
   "outputs": [
    {
     "data": {
      "text/plain": [
       "array([[ 93160.31025506    +0.j        , -52445.45030346-14077.99647222j,\n",
       "         -6842.17096964 +6237.43335657j, ...,\n",
       "         12957.66563347 -3929.33059608j,  -6842.17096964 -6237.43335657j,\n",
       "        -52445.45030346+14077.99647222j],\n",
       "       [-18482.33784476 -1696.59762533j,   5055.20288957 +4095.47828852j,\n",
       "          6255.99443978   +88.14901486j, ...,\n",
       "          -211.92881519 +2527.77200221j,   5668.51397615  +331.98224008j,\n",
       "          8094.30005464 -2708.26001565j],\n",
       "       [ -2066.76553445 +2488.38922319j,   4345.46227835 -1501.03849825j,\n",
       "         -2395.78384114  -431.99666609j, ...,\n",
       "         -2330.56349674  +969.72325256j,  -1583.82672026 +4776.25822928j,\n",
       "          2778.96657146 -5551.64126591j],\n",
       "       ...,\n",
       "       [  6192.89182247 -5361.34110016j,  -7769.32451315  +880.10162842j,\n",
       "          3632.46629891 +2817.39053514j, ...,\n",
       "           969.06502965 +2058.0148191j ,    955.3477024  +2998.76259621j,\n",
       "         -2876.00722359  +187.74815216j],\n",
       "       [ -2066.76553445 -2488.38922319j,   2778.96657146 +5551.64126591j,\n",
       "         -1583.82672026 -4776.25822928j, ...,\n",
       "         -5249.49634585 -2948.87021404j,  -2395.78384114  +431.99666609j,\n",
       "          4345.46227835 +1501.03849825j],\n",
       "       [-18482.33784476 +1696.59762533j,   8094.30005464 +2708.26001565j,\n",
       "          5668.51397615  -331.98224008j, ...,\n",
       "           925.40479188  +385.51394576j,   6255.99443978   -88.14901486j,\n",
       "          5055.20288957 -4095.47828852j]])"
      ]
     },
     "execution_count": 8,
     "metadata": {},
     "output_type": "execute_result"
    }
   ],
   "source": [
    "Y"
   ]
  },
  {
   "cell_type": "code",
   "execution_count": 5,
   "id": "81bbb431-78ba-48ca-a0b0-093c86011f55",
   "metadata": {
    "tags": []
   },
   "outputs": [
    {
     "data": {
      "text/plain": [
       "(38, 38)"
      ]
     },
     "execution_count": 5,
     "metadata": {},
     "output_type": "execute_result"
    }
   ],
   "source": [
    "Y.shape"
   ]
  },
  {
   "cell_type": "code",
   "execution_count": 5,
   "id": "34a07953-fbbb-4a4a-8010-de09c9c50e5d",
   "metadata": {
    "tags": []
   },
   "outputs": [
    {
     "ename": "NameError",
     "evalue": "name 'Y' is not defined",
     "output_type": "error",
     "traceback": [
      "\u001b[0;31m---------------------------------------------------------------------------\u001b[0m",
      "\u001b[0;31mNameError\u001b[0m                                 Traceback (most recent call last)",
      "Cell \u001b[0;32mIn[5], line 1\u001b[0m\n\u001b[0;32m----> 1\u001b[0m y \u001b[38;5;241m=\u001b[39m Y\u001b[38;5;241m.\u001b[39mflatten()\n",
      "\u001b[0;31mNameError\u001b[0m: name 'Y' is not defined"
     ]
    }
   ],
   "source": [
    "y = Y.flatten()"
   ]
  },
  {
   "cell_type": "code",
   "execution_count": 6,
   "id": "079c6b22-4e66-423e-94fa-0c3d27e91fc0",
   "metadata": {
    "tags": []
   },
   "outputs": [
    {
     "ename": "NameError",
     "evalue": "name 'y' is not defined",
     "output_type": "error",
     "traceback": [
      "\u001b[0;31m---------------------------------------------------------------------------\u001b[0m",
      "\u001b[0;31mNameError\u001b[0m                                 Traceback (most recent call last)",
      "Cell \u001b[0;32mIn[6], line 1\u001b[0m\n\u001b[0;32m----> 1\u001b[0m y\u001b[38;5;241m.\u001b[39mshape\n",
      "\u001b[0;31mNameError\u001b[0m: name 'y' is not defined"
     ]
    }
   ],
   "source": [
    "y.shape"
   ]
  },
  {
   "cell_type": "code",
   "execution_count": null,
   "id": "2e973d01-6cae-473f-a951-d261f6f7bbd3",
   "metadata": {
    "tags": []
   },
   "outputs": [],
   "source": []
  },
  {
   "cell_type": "code",
   "execution_count": 8,
   "id": "078eb03f-ad04-4527-af63-4c480deb3981",
   "metadata": {
    "tags": []
   },
   "outputs": [],
   "source": [
    "# A = np.random.randint(0,2,size=(1444//2,1444))\n",
    "yul = Y[:10, :10]\n",
    "yur = Y[:10, -10:]\n",
    "yll = Y[-10:, :10]\n",
    "ylr = Y[-10:, -10:]\n",
    "\n",
    "corners = np.block([[yul, yur],\n",
    "              [yll, ylr]])"
   ]
  },
  {
   "cell_type": "code",
   "execution_count": 9,
   "id": "a4835b92-75b7-4cfe-bc27-187016a1495a",
   "metadata": {
    "tags": []
   },
   "outputs": [],
   "source": [
    "corners_flat = corners.flatten()"
   ]
  },
  {
   "cell_type": "code",
   "execution_count": 10,
   "id": "9c42185e-3933-4a6e-ba4f-41c91a97cfbf",
   "metadata": {
    "tags": []
   },
   "outputs": [
    {
     "data": {
      "text/plain": [
       "(1444,)"
      ]
     },
     "execution_count": 10,
     "metadata": {},
     "output_type": "execute_result"
    }
   ],
   "source": [
    "stacked_corners = np.tile(corners_flat, 4)\n",
    "stacked_corners = stacked_corners[:1444]\n",
    "stacked_corners.shape"
   ]
  },
  {
   "cell_type": "code",
   "execution_count": 11,
   "id": "28eb6497-d36a-42a4-a5fe-9f9cc38cd2ef",
   "metadata": {
    "tags": []
   },
   "outputs": [],
   "source": [
    "# desired_rows = y.shape[0] \n",
    "\n",
    "# stacked_corners = np.empty((0, corners_flat.shape[0]), dtype=corners_flat.dtype)\n",
    "\n",
    "# while stacked_corners.shape[0] < desired_rows:\n",
    "#     stacked_corners = np.vstack([stacked_corners, corners_flat])\n",
    "\n",
    "# stacked_corners = stacked_corners[:desired_rows]\n",
    "# stacked_corners.shape"
   ]
  },
  {
   "cell_type": "code",
   "execution_count": 12,
   "id": "69205748-0982-447f-9f14-ad03aa7321b6",
   "metadata": {
    "tags": []
   },
   "outputs": [
    {
     "data": {
      "text/plain": [
       "(1444,)"
      ]
     },
     "execution_count": 12,
     "metadata": {},
     "output_type": "execute_result"
    }
   ],
   "source": [
    "stacked_corners.shape"
   ]
  },
  {
   "cell_type": "code",
   "execution_count": 13,
   "id": "abd37f1e-35c1-49d7-9b3e-6a4098e778ff",
   "metadata": {
    "tags": []
   },
   "outputs": [
    {
     "data": {
      "text/plain": [
       "(722, 1444)"
      ]
     },
     "execution_count": 13,
     "metadata": {},
     "output_type": "execute_result"
    }
   ],
   "source": [
    "num_rows_corners = stacked_corners.shape[0]\n",
    "size_of_A = 722*1444\n",
    "\n",
    "sampled_indices = np.random.randint(0, num_rows_corners, size=size_of_A)\n",
    "\n",
    "# Create the new matrix by sampling rows from corners using the generated indices\n",
    "A = stacked_corners[sampled_indices]\n",
    "A = A.reshape(722,1444)\n",
    "A.shape"
   ]
  },
  {
   "cell_type": "code",
   "execution_count": 14,
   "id": "da5c2c34-a1a2-41fe-b22d-451eb0ba40e4",
   "metadata": {
    "tags": []
   },
   "outputs": [],
   "source": [
    "b = A@y"
   ]
  },
  {
   "cell_type": "code",
   "execution_count": 15,
   "id": "39f9a7a8-1270-4093-a3fa-824243efcc41",
   "metadata": {
    "tags": []
   },
   "outputs": [
    {
     "name": "stderr",
     "output_type": "stream",
     "text": [
      "/Users/Divya/anaconda3/lib/python3.11/site-packages/cvxpy/reductions/solvers/solving_chain.py:336: FutureWarning: \n",
      "    Your problem is being solved with the ECOS solver by default. Starting in \n",
      "    CVXPY 1.5.0, Clarabel will be used as the default solver instead. To continue \n",
      "    using ECOS, specify the ECOS solver explicitly using the ``solver=cp.ECOS`` \n",
      "    argument to the ``problem.solve`` method.\n",
      "    \n",
      "  warnings.warn(ECOS_DEPRECATION_MSG, FutureWarning)\n"
     ]
    }
   ],
   "source": [
    "ysparsereal = cvx.Variable(1444)\n",
    "obj = cvx.Minimize(cvx.norm(ysparsereal, 1))\n",
    "constraints = [cvx.norm(A@ysparsereal - b.real,2) <= 1e-12]\n",
    "prob = cvx.Problem(obj, constraints)\n",
    "result = prob.solve()"
   ]
  },
  {
   "cell_type": "code",
   "execution_count": 16,
   "id": "d1b4e129-f239-4916-8645-db9c0006642d",
   "metadata": {
    "tags": []
   },
   "outputs": [],
   "source": [
    "ysparseimag = cvx.Variable(1444)\n",
    "obj = cvx.Minimize(cvx.norm(ysparseimag, 1))\n",
    "constraints = [cvx.norm(A@ysparseimag - b.imag,2) <= 1e-12]\n",
    "prob = cvx.Problem(obj, constraints)\n",
    "result = prob.solve()"
   ]
  },
  {
   "cell_type": "code",
   "execution_count": 17,
   "id": "bf774ce8-068e-4b8a-b674-8b5b732d374e",
   "metadata": {
    "tags": []
   },
   "outputs": [],
   "source": [
    "ysparse = ysparsereal.value + ysparseimag.value*1j"
   ]
  },
  {
   "cell_type": "code",
   "execution_count": 18,
   "id": "b80c4e7e-24ea-4461-9fcb-dceb59205fb9",
   "metadata": {
    "tags": []
   },
   "outputs": [],
   "source": [
    "Ysparse = ysparse.reshape((38,38))"
   ]
  },
  {
   "cell_type": "code",
   "execution_count": 19,
   "id": "5cfbf817-7611-4c29-9ce5-ded6ddcbaa80",
   "metadata": {
    "tags": []
   },
   "outputs": [],
   "source": [
    "Xhat = np.fft.ifft2(Ysparse).real"
   ]
  },
  {
   "cell_type": "code",
   "execution_count": 20,
   "id": "1c9b540e-fd4a-471a-b23c-3a4880db0aff",
   "metadata": {
    "tags": []
   },
   "outputs": [
    {
     "data": {
      "text/plain": [
       "<matplotlib.image.AxesImage at 0x1363b0910>"
      ]
     },
     "execution_count": 20,
     "metadata": {},
     "output_type": "execute_result"
    },
    {
     "data": {
      "image/png": "[encoded data removed]",
      "text/plain": [
       "<Figure size 640x480 with 1 Axes>"
      ]
     },
     "metadata": {},
     "output_type": "display_data"
    }
   ],
   "source": [
    "plt.imshow(Xhat)"
   ]
  },
  {
   "cell_type": "code",
   "execution_count": 21,
   "id": "62a35325-6e44-498e-9be9-01f7aaaf7c05",
   "metadata": {
    "tags": []
   },
   "outputs": [
    {
     "data": {
      "image/png": "[encoded data removed]",
      "text/plain": [
       "<Figure size 1000x500 with 2 Axes>"
      ]
     },
     "metadata": {},
     "output_type": "display_data"
    }
   ],
   "source": [
    "plt.figure(figsize=(10, 5))\n",
    "plt.subplot(1, 2, 1)\n",
    "plt.imshow(X)\n",
    "plt.title('Original Image')\n",
    "\n",
    "plt.subplot(1, 2, 2)\n",
    "plt.imshow(Xhat)\n",
    "plt.title('Reconstructed Image')\n",
    "\n",
    "plt.show()"
   ]
  },
  {
   "cell_type": "code",
   "execution_count": 22,
   "id": "78693636-26d5-4ec7-8fb2-d9c1d698e374",
   "metadata": {
    "tags": []
   },
   "outputs": [
    {
     "data": {
      "text/plain": [
       "<matplotlib.image.AxesImage at 0x137453010>"
      ]
     },
     "execution_count": 22,
     "metadata": {},
     "output_type": "execute_result"
    },
    {
     "data": {
      "image/png": "[encoded data removed]",
      "text/plain": [
       "<Figure size 640x480 with 1 Axes>"
      ]
     },
     "metadata": {},
     "output_type": "display_data"
    }
   ],
   "source": [
    "plt.imshow(Y.imag)"
   ]
  },
  {
   "cell_type": "code",
   "execution_count": 23,
   "id": "fcd85c6f-ed0d-4fc5-8b98-6e33d5cd0760",
   "metadata": {
    "tags": []
   },
   "outputs": [
    {
     "data": {
      "text/plain": [
       "(38, 38)"
      ]
     },
     "execution_count": 23,
     "metadata": {},
     "output_type": "execute_result"
    }
   ],
   "source": [
    "Y.imag.shape"
   ]
  },
  {
   "cell_type": "code",
   "execution_count": 24,
   "id": "1eba1fb0-7c4e-4742-92ac-dfe2f6481a92",
   "metadata": {
    "tags": []
   },
   "outputs": [
    {
     "data": {
      "text/plain": [
       "(10, 10)"
      ]
     },
     "execution_count": 24,
     "metadata": {},
     "output_type": "execute_result"
    }
   ],
   "source": [
    "yul.shape"
   ]
  },
  {
   "cell_type": "code",
   "execution_count": 25,
   "id": "33c98266-c6ea-41a6-9167-0f4af4ec4136",
   "metadata": {
    "tags": []
   },
   "outputs": [
    {
     "data": {
      "text/plain": [
       "<matplotlib.image.AxesImage at 0x1375db010>"
      ]
     },
     "execution_count": 25,
     "metadata": {},
     "output_type": "execute_result"
    },
    {
     "data": {
      "image/png": "[encoded data removed]",
      "text/plain": [
       "<Figure size 640x480 with 1 Axes>"
      ]
     },
     "metadata": {},
     "output_type": "display_data"
    }
   ],
   "source": [
    "plt.imshow(yul.imag)"
   ]
  },
  {
   "cell_type": "code",
   "execution_count": null,
   "id": "e2fb6df9-098d-47f4-9e06-414a18732115",
   "metadata": {},
   "outputs": [],
   "source": []
  }
 ],
 "metadata": {
  "kernelspec": {
   "display_name": "Python 3 (ipykernel)",
   "language": "python",
   "name": "python3"
  },
  "language_info": {
   "codemirror_mode": {
    "name": "ipython",
    "version": 3
   },
   "file_extension": ".py",
   "mimetype": "text/x-python",
   "name": "python",
   "nbconvert_exporter": "python",
   "pygments_lexer": "ipython3",
   "version": "3.11.5"
  }
 },
 "nbformat": 4,
 "nbformat_minor": 5
}
