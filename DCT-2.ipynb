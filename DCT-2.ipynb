{
  "cells": [
    {
      "cell_type": "code",
      "execution_count": 4,
      "metadata": {
        "id": "5NHxFvKhDYZ5"
      },
      "outputs": [],
      "source": [
        "\n",
        "import numpy as np\n",
        "import matplotlib as mpl\n",
        "import matplotlib.pyplot as plt\n",
        "import scipy.optimize as spopt\n",
        "import scipy.fftpack as spfft\n",
        "import scipy.ndimage as spimg\n",
        "import cvxpy as cvx\n",
        "from PIL import Image, ImageChops\n",
        "from scipy.signal import  correlate2d\n",
        "import pywt"
      ]
    },
    {
      "cell_type": "code",
      "execution_count": 51,
      "metadata": {
        "colab": {
          "base_uri": "https://localhost:8080/"
        },
        "id": "4IBNtzXHD1mi",
        "outputId": "577453d3-eb0e-43fe-dad4-ffaf3b3a913a"
      },
      "outputs": [
        {
          "output_type": "stream",
          "name": "stdout",
          "text": [
            "[256, 256]\n"
          ]
        }
      ],
      "source": [
        "X_full= mpl.pyplot.imread('face.jpeg') #loading image\n",
        "X_full = X_full.mean(axis=2) #changing it to \"grayscale\"\n",
        "X = spimg.zoom(X_full, 1) #downsizing image\n",
        "height,width = X.shape #getting height and width of image\n",
        "print([height,width])"
      ]
    },
    {
      "cell_type": "code",
      "execution_count": 52,
      "metadata": {
        "id": "X_hDkAObEDcU"
      },
      "outputs": [],
      "source": [
        "def dct2 ( x ) :\n",
        "  return spfft.dct(spfft.dct( x.T , norm = \"ortho\" , axis = 0).T , norm = \"ortho\" , axis = 0 )\n",
        "def idct2 ( x ) :\n",
        "  return spfft.idct( spfft.idct( x.T , norm = \"ortho\" , axis = 0 ).T , norm = \"ortho\" , axis = 0)"
      ]
    },
    {
      "cell_type": "code",
      "execution_count": 53,
      "metadata": {
        "id": "JRMGMVyvEqOS"
      },
      "outputs": [],
      "source": [
        "Y = dct2(X)\n",
        "y = Y[:45,:45].flatten()"
      ]
    },
    {
      "cell_type": "code",
      "execution_count": 7,
      "metadata": {
        "colab": {
          "base_uri": "https://localhost:8080/",
          "height": 448
        },
        "id": "25BTyYFLMuK5",
        "outputId": "70fb1951-4b3b-49d6-d1d8-8b65bc0c181f"
      },
      "outputs": [
        {
          "output_type": "execute_result",
          "data": {
            "text/plain": [
              "<matplotlib.image.AxesImage at 0x792b41e7ada0>"
            ]
          },
          "metadata": {},
          "execution_count": 7
        },
        {
          "output_type": "display_data",
          "data": {
            "text/plain": [
              "<Figure size 640x480 with 1 Axes>"
            ],
            "image/png": "[encoded data removed]"
          },
          "metadata": {}
        }
      ],
      "source": [
        "plt.imshow(Y[:45, :45])"
      ]
    },
    {
      "cell_type": "code",
      "execution_count": 8,
      "metadata": {
        "id": "9nc4BI2JFCfN"
      },
      "outputs": [],
      "source": [
        "A = np.zeros((900,900))\n",
        "for i in range(900):\n",
        "  index = np.random.randint(0, 900)\n",
        "  A[i][index] = 1\n",
        "\n"
      ]
    },
    {
      "cell_type": "code",
      "execution_count": 54,
      "metadata": {
        "id": "xsJKmqDEPshO"
      },
      "outputs": [],
      "source": [
        "A = np.random.randn(45**2,45**2)"
      ]
    },
    {
      "cell_type": "code",
      "execution_count": null,
      "metadata": {
        "id": "kSMCQ7O7QwCZ"
      },
      "outputs": [],
      "source": [
        "A = np.random.randint(0,2,(45**2,45**2))"
      ]
    },
    {
      "cell_type": "code",
      "execution_count": 55,
      "metadata": {
        "id": "r8dOIofYFRX_"
      },
      "outputs": [],
      "source": [
        "b = A@y"
      ]
    },
    {
      "cell_type": "code",
      "execution_count": 56,
      "metadata": {
        "id": "1chiXgH3FZDu"
      },
      "outputs": [],
      "source": [
        "ysparse = cvx.Variable(45**2)\n",
        "obj = cvx.Minimize(cvx.norm(ysparse, 1))\n",
        "constraints = [cvx.norm(A@ysparse - b,2) <= 1e-12]\n",
        "prob = cvx.Problem(obj, constraints)\n",
        "result = prob.solve()"
      ]
    },
    {
      "cell_type": "code",
      "execution_count": 12,
      "metadata": {
        "colab": {
          "base_uri": "https://localhost:8080/"
        },
        "id": "TIlhrWzcFihR",
        "outputId": "61e18c5a-7a41-4903-96a6-9f592e363bee"
      },
      "outputs": [
        {
          "output_type": "execute_result",
          "data": {
            "text/plain": [
              "2025"
            ]
          },
          "metadata": {},
          "execution_count": 12
        }
      ],
      "source": [
        "y_corner = ysparse.value\n",
        "y_corner = y_corner.reshape((45,45))\n",
        "\n",
        "image = np.zeros((height, width))\n",
        "image[:45,:45] = y_corner\n",
        "np.count_nonzero(image)"
      ]
    },
    {
      "cell_type": "markdown",
      "metadata": {
        "id": "xvQ6jSLtX4m7"
      },
      "source": [
        "63936 there are that many zeros so the solution is very sparse and 2025 non-sparse coefficients. This works out to be only about 3 percent of the initial data."
      ]
    },
    {
      "cell_type": "code",
      "execution_count": 57,
      "metadata": {
        "id": "gJ7fkU7tGJFG"
      },
      "outputs": [],
      "source": [
        "image = idct2(image)"
      ]
    },
    {
      "cell_type": "code",
      "execution_count": 60,
      "metadata": {
        "id": "o8ZD59Tn4eOz",
        "colab": {
          "base_uri": "https://localhost:8080/"
        },
        "outputId": "0a4ed7c3-7abc-42bc-c064-1255c7c57a34"
      },
      "outputs": [
        {
          "output_type": "execute_result",
          "data": {
            "text/plain": [
              "15575.535167468915"
            ]
          },
          "metadata": {},
          "execution_count": 60
        }
      ],
      "source": [
        "normalized_result = image/255\n",
        "normalized_original = X/255\n",
        "difference = normalized_original - normalized_result\n",
        "np.sum(abs(difference))\n"
      ]
    },
    {
      "cell_type": "code",
      "source": [
        "def mse(image1, image2):\n",
        "    squared_diff = (image1 - image2) ** 2\n",
        "    mse = squared_diff.mean()\n",
        "    return mse\n",
        "def mad(image1, image2):\n",
        "  diff = image1 - image2\n",
        "  return np.mean(abs(diff))\n",
        "\n"
      ],
      "metadata": {
        "id": "ew7kifMuRP_R"
      },
      "execution_count": 8,
      "outputs": []
    },
    {
      "cell_type": "code",
      "source": [
        "print(mse(X, image))\n",
        "print(mse(normalized_original,normalized_result ))\n",
        "print(mad(X, image))"
      ],
      "metadata": {
        "id": "DmX7hpDel8M2",
        "outputId": "a4278b92-3552-4b25-cb4e-a2cd0b22ff9b",
        "colab": {
          "base_uri": "https://localhost:8080/"
        }
      },
      "execution_count": 64,
      "outputs": [
        {
          "output_type": "stream",
          "name": "stdout",
          "text": [
            "5935.298726428803\n",
            "0.09127718149063901\n",
            "60.604270442269495\n"
          ]
        }
      ]
    },
    {
      "cell_type": "code",
      "source": [
        "import numpy as np\n",
        "import matplotlib as mpl\n",
        "import matplotlib.pyplot as plt\n",
        "import scipy.optimize as spopt\n",
        "import scipy.fftpack as spfft\n",
        "import scipy.ndimage as spimg\n",
        "import cvxpy as cvx\n",
        "from PIL import Image\n",
        "\n",
        "# Scipy doesn't have a function for taking the discrete cosine transform on 2D signals\n",
        "# so we are constructing our own.\n",
        "def dct2(x):\n",
        "    return spfft.dct(spfft.dct(x.T, norm='ortho', axis=0).T, norm='ortho', axis=0)\n",
        "\n",
        "def idct2(x):\n",
        "    return spfft.idct(spfft.idct(x.T, norm='ortho', axis=0).T, norm='ortho', axis=0)\n",
        "\n",
        "X_full = mpl.pyplot.imread('face.jpeg') #loading image\n",
        "X_full = X_full.mean(axis=2) #changing it to \"grayscale\"\n",
        "X = spimg.zoom(X_full, 0.15) #downsizing image\n",
        "height,width = X.shape #getting height and width of image\n",
        "\n",
        "# Extract small sample of signal\n",
        "k = round(width * height * 0.9) # 90% sample\n",
        "ri = np.random.choice(width * height, k, replace=False) # random sample of indices\n",
        "b = X.T.flat[ri]\n",
        "b = np.expand_dims(b, axis=1)\n",
        "\n",
        "# Create dct matrix operator using kron (memory errors for large height*width)\n",
        "A = np.kron(\n",
        "    spfft.idct(np.identity(width), norm='ortho', axis=0),\n",
        "    spfft.idct(np.identity(height), norm='ortho', axis=0)\n",
        "    )\n",
        "A = A[ri,:]\n",
        "\n",
        "# Do L1 optimization\n",
        "vx = cvx.Variable(width * height)\n",
        "objective = cvx.Minimize(cvx.norm(vx, 1))\n",
        "constraints = [A*vx == b.flatten()]  # Flatten b to make it 1D\n",
        "prob = cvx.Problem(objective, constraints)\n",
        "result = prob.solve(verbose=True)\n",
        "Xat2 = np.array(vx.value).squeeze()\n",
        "\n",
        "Xat = Xat2.reshape(width, height).T # stack columns\n",
        "Xa = idct2(Xat) #reconstructed image"
      ],
      "metadata": {
        "id": "GROarkebP-PA",
        "outputId": "95609545-6083-4126-bee8-fb17065599cf",
        "colab": {
          "base_uri": "https://localhost:8080/"
        }
      },
      "execution_count": 65,
      "outputs": [
        {
          "output_type": "stream",
          "name": "stdout",
          "text": [
            "===============================================================================\n",
            "                                     CVXPY                                     \n",
            "                                     v1.3.3                                    \n",
            "===============================================================================\n",
            "(CVXPY) Apr 08 02:49:00 AM: Your problem has 1444 variables, 1 constraints, and 0 parameters.\n",
            "(CVXPY) Apr 08 02:49:00 AM: It is compliant with the following grammars: DCP, DQCP\n",
            "(CVXPY) Apr 08 02:49:00 AM: (If you need to solve this problem multiple times, but with different data, consider using parameters.)\n",
            "(CVXPY) Apr 08 02:49:00 AM: CVXPY will first compile your problem; then, it will invoke a numerical solver to obtain a solution.\n",
            "-------------------------------------------------------------------------------\n",
            "                                  Compilation                                  \n",
            "-------------------------------------------------------------------------------\n",
            "(CVXPY) Apr 08 02:49:00 AM: Compiling problem (target solver=ECOS).\n",
            "(CVXPY) Apr 08 02:49:00 AM: Reduction chain: Dcp2Cone -> CvxAttr2Constr -> ConeMatrixStuffing -> ECOS\n",
            "(CVXPY) Apr 08 02:49:00 AM: Applying reduction Dcp2Cone\n",
            "(CVXPY) Apr 08 02:49:00 AM: Applying reduction CvxAttr2Constr\n",
            "(CVXPY) Apr 08 02:49:00 AM: Applying reduction ConeMatrixStuffing\n"
          ]
        },
        {
          "output_type": "stream",
          "name": "stderr",
          "text": [
            "/usr/local/lib/python3.10/dist-packages/cvxpy/expressions/expression.py:612: UserWarning: \n",
            "This use of ``*`` has resulted in matrix multiplication.\n",
            "Using ``*`` for matrix multiplication has been deprecated since CVXPY 1.1.\n",
            "    Use ``*`` for matrix-scalar and vector-scalar multiplication.\n",
            "    Use ``@`` for matrix-matrix and matrix-vector multiplication.\n",
            "    Use ``multiply`` for elementwise multiplication.\n",
            "This code path has been hit 2 times so far.\n",
            "\n",
            "  warnings.warn(msg, UserWarning)\n"
          ]
        },
        {
          "output_type": "stream",
          "name": "stdout",
          "text": [
            "(CVXPY) Apr 08 02:49:01 AM: Applying reduction ECOS\n",
            "(CVXPY) Apr 08 02:49:01 AM: Finished problem compilation (took 1.058e+00 seconds).\n",
            "-------------------------------------------------------------------------------\n",
            "                                Numerical solver                               \n",
            "-------------------------------------------------------------------------------\n",
            "(CVXPY) Apr 08 02:49:01 AM: Invoking solver ECOS  to obtain a solution.\n",
            "-------------------------------------------------------------------------------\n",
            "                                    Summary                                    \n",
            "-------------------------------------------------------------------------------\n",
            "(CVXPY) Apr 08 02:49:37 AM: Problem status: optimal\n",
            "(CVXPY) Apr 08 02:49:37 AM: Optimal value: 3.952e+04\n",
            "(CVXPY) Apr 08 02:49:37 AM: Compilation took 1.058e+00 seconds\n",
            "(CVXPY) Apr 08 02:49:37 AM: Solver (including time spent in interface) took 3.556e+01 seconds\n"
          ]
        }
      ]
    },
    {
      "cell_type": "code",
      "source": [
        "norm_orig = X/255\n",
        "norm_result = Xa/255\n",
        "print(mse(norm_orig, norm_result))\n",
        "print(mse(X,Xa))\n",
        "print(mad(X,Xa))"
      ],
      "metadata": {
        "id": "PjsdhnKPN9Mz",
        "outputId": "50662ac0-cbae-40cf-8e13-c9cb7bedd9ea",
        "colab": {
          "base_uri": "https://localhost:8080/"
        }
      },
      "execution_count": 66,
      "outputs": [
        {
          "output_type": "stream",
          "name": "stdout",
          "text": [
            "0.001659421089322767\n",
            "107.90385633321291\n",
            "2.4199891692732844\n"
          ]
        }
      ]
    },
    {
      "cell_type": "code",
      "source": [
        "import numpy as np\n",
        "import matplotlib as mpl\n",
        "import matplotlib.pyplot as plt\n",
        "import scipy.optimize as spopt\n",
        "import scipy.fftpack as spfft\n",
        "import scipy.ndimage as spimg\n",
        "import cvxpy as cvx\n",
        "from PIL import Image\n",
        "\n",
        "X_full = mpl.pyplot.imread('face.jpeg') #loading image\n",
        "X_full = X_full.mean(axis=2) #changing it to \"grayscale\"\n",
        "X = spimg.zoom(X_full, 0.15) #downsizing image\n",
        "height,width = X.shape #getting height and width of image\n",
        "\n",
        "Y = np.fft.fft2(X) #take fourier transform\n",
        "width, height = Y.shape\n",
        "y = Y.flatten()\n",
        "Yz = Y.copy()\n",
        "Yz[np.abs(Yz) < 1000] = 0. #filter out values below a certain threshold\n",
        "yz = Yz.flatten()\n",
        "dim = yz.size\n",
        "\n",
        "square_size = 2\n",
        "yul = Yz[:square_size, :square_size]\n",
        "yur = Yz[:square_size, -square_size:]\n",
        "yll = Yz[-square_size:, :square_size]\n",
        "ylr = Yz[-square_size:, -square_size:]\n",
        "\n",
        "corners = np.block([[yul, yur],\n",
        "              [yll, ylr]])\n",
        "\n",
        "corners_flat = corners.flatten()\n",
        "stacked_corners = np.tile(corners_flat, 4)\n",
        "stacked_corners = stacked_corners[:dim]\n",
        "\n",
        "num_rows_corners = stacked_corners.shape[0]\n",
        "size_of_A = (dim//2)*dim\n",
        "\n",
        "sampled_indices = np.random.randint(0, num_rows_corners, size=size_of_A)\n",
        "# Create the new matrix by sampling rows from corners using the generated indices\n",
        "A = stacked_corners[sampled_indices]\n",
        "\n",
        "A = A.reshape(dim//2,dim)\n",
        "yz = yz.reshape((-1, 1))\n",
        "\n",
        "b = A@yz\n",
        "ysparsereal = cvx.Variable((dim,1))\n",
        "\n",
        "obj = cvx.Minimize(cvx.norm(ysparsereal, 1))\n",
        "constraints = [cvx.norm(A@ysparsereal - b.real,2) <= 1e-8]\n",
        "prob = cvx.Problem(obj, constraints)\n",
        "result = prob.solve()\n",
        "\n",
        "ysparseimag = cvx.Variable((dim,1))\n",
        "\n",
        "obj = cvx.Minimize(cvx.norm(ysparseimag, 1))\n",
        "constraints = [cvx.norm(A@ysparseimag - b.imag,2) <= 1e-8]\n",
        "prob = cvx.Problem(obj, constraints)\n",
        "result = prob.solve()\n",
        "\n",
        "ysparse = ysparsereal.value + ysparseimag.value*1j\n",
        "Ysparse = ysparse.reshape((width,height))\n",
        "Xhat = np.fft.ifft2(Ysparse).real"
      ],
      "metadata": {
        "id": "9QpsEZ8QU4pi"
      },
      "execution_count": 67,
      "outputs": []
    },
    {
      "cell_type": "code",
      "source": [
        "norm_orig = X/255\n",
        "norm_result = Xhat/255\n",
        "print(mse(norm_orig, norm_result))\n",
        "print(mse(X,Xhat))\n",
        "print(mad(X, Xhat))"
      ],
      "metadata": {
        "id": "DPrVgszTcIEs",
        "outputId": "7a4a2b41-5195-4a0e-931f-9edb13ca4169",
        "colab": {
          "base_uri": "https://localhost:8080/"
        }
      },
      "execution_count": 68,
      "outputs": [
        {
          "output_type": "stream",
          "name": "stdout",
          "text": [
            "67.74245100876927\n",
            "4404952.876845221\n",
            "1673.8690750852777\n"
          ]
        }
      ]
    },
    {
      "cell_type": "code",
      "source": [
        "import numpy as np\n",
        "import matplotlib as mpl\n",
        "import matplotlib.pyplot as plt\n",
        "import scipy.optimize as spopt\n",
        "import scipy.fftpack as spfft\n",
        "import scipy.ndimage as spimg\n",
        "import cvxpy as cvx\n",
        "from PIL import Image\n",
        "\n",
        "X_full = mpl.pyplot.imread('face.jpeg') #loading image\n",
        "X_full = X_full.mean(axis=2) #changing it to \"grayscale\"\n",
        "X = spimg.zoom(X_full, 1) #downsizing image\n",
        "height,width = X.shape #getting height and width of image\n",
        "\n",
        "Y = np.fft.fft2(X)\n",
        "width, height = Y.shape\n",
        "\n",
        "n = 20\n",
        "yul = Y[:n, :n]\n",
        "yur = Y[:n, -n:]\n",
        "yll = Y[-n:, :n]\n",
        "ylr = Y[-n:, -n:]\n",
        "\n",
        "Z = np.block([[yul, yur],\n",
        "              [yll, ylr]])\n",
        "\n",
        "z = Z.flatten()\n",
        "z = z.reshape((-1, 1))\n",
        "A = np.random.randint(0,2,size=((4*n**2),4*n**2))\n",
        "b = A@z\n",
        "\n",
        "error_threshold = 1e-8\n",
        "\n",
        "w_real = cvx.Variable((4*n**2,1))\n",
        "\n",
        "obj = cvx.Minimize(cvx.norm(w_real, 1))\n",
        "constraints = [cvx.norm(A@w_real - b.real,2) <= error_threshold]\n",
        "prob = cvx.Problem(obj, constraints)\n",
        "result = prob.solve()\n",
        "\n",
        "w_image = cvx.Variable((4*n**2,1))\n",
        "\n",
        "obj = cvx.Minimize(cvx.norm(w_image, 1))\n",
        "constraints = [cvx.norm(A@w_image - b.imag,2) <= error_threshold]\n",
        "prob = cvx.Problem(obj, constraints)\n",
        "result = prob.solve()\n",
        "\n",
        "w_sparse = w_real.value + w_image.value*1j\n",
        "\n",
        "W = w_sparse.reshape((2*n,2*n))\n",
        "\n",
        "Y_hat = np.zeros(width*height)\n",
        "Y_hat = Y_hat.reshape((width,height))\n",
        "\n",
        "Y_hat[:n, :n] = W[:n, :n] #upper left\n",
        "Y_hat[:n, -n:] = W[:n, -n:] #upper right\n",
        "Y_hat[-n:, :n] = W[-n:, :n] #lower left\n",
        "Y_hat[-n:, -n:] = W[-n:, -n:] #lower right\n",
        "\n",
        "X_hat = np.fft.ifft2(Y_hat).real"
      ],
      "metadata": {
        "id": "wJ9BG6_7cR1g",
        "outputId": "420a82a1-0cc4-4947-ca2b-fd80010456fa",
        "colab": {
          "base_uri": "https://localhost:8080/"
        }
      },
      "execution_count": 69,
      "outputs": [
        {
          "output_type": "stream",
          "name": "stderr",
          "text": [
            "/usr/local/lib/python3.10/dist-packages/cvxpy/problems/problem.py:1387: UserWarning: Solution may be inaccurate. Try another solver, adjusting the solver settings, or solve with verbose=True for more information.\n",
            "  warnings.warn(\n",
            "<ipython-input-69-63bd1e7b7fdf>:55: ComplexWarning: Casting complex values to real discards the imaginary part\n",
            "  Y_hat[:n, :n] = W[:n, :n] #upper left\n",
            "<ipython-input-69-63bd1e7b7fdf>:56: ComplexWarning: Casting complex values to real discards the imaginary part\n",
            "  Y_hat[:n, -n:] = W[:n, -n:] #upper right\n",
            "<ipython-input-69-63bd1e7b7fdf>:57: ComplexWarning: Casting complex values to real discards the imaginary part\n",
            "  Y_hat[-n:, :n] = W[-n:, :n] #lower left\n",
            "<ipython-input-69-63bd1e7b7fdf>:58: ComplexWarning: Casting complex values to real discards the imaginary part\n",
            "  Y_hat[-n:, -n:] = W[-n:, -n:] #lower right\n"
          ]
        }
      ]
    },
    {
      "cell_type": "code",
      "source": [
        "norm_orig = X/255\n",
        "norm_result = X_hat/255\n",
        "print(mse(norm_orig, norm_result))\n",
        "print(mse(X,X_hat))\n",
        "print(mad(X, X_hat))"
      ],
      "metadata": {
        "id": "SB2ntn5ieQd8",
        "outputId": "0e566940-2af0-4676-96fa-f57644090106",
        "colab": {
          "base_uri": "https://localhost:8080/"
        }
      },
      "execution_count": 71,
      "outputs": [
        {
          "output_type": "stream",
          "name": "stdout",
          "text": [
            "0.01437301011472419\n",
            "934.6049827099405\n",
            "20.056233541327572\n"
          ]
        }
      ]
    },
    {
      "cell_type": "code",
      "source": [
        "X_full = mpl.pyplot.imread('face.jpeg') #loading image\n",
        "X_full = X_full.mean(axis=2) #changing it to \"grayscale\"\n",
        "X = spimg.zoom(X_full, 0.15) #downsizing image\n",
        "height,width = X.shape #getting height and width of image\n",
        "\n",
        "Y = pywt.dwt2(X, 'db1')\n",
        "cA, (cH, cV, cD) = Y\n",
        "\n",
        "Y = np.block([\n",
        "    [cA,cH],\n",
        "    [cV,cD]\n",
        "])\n",
        "width, height = Y.shape\n",
        "\n",
        "y = np.array(Y)\n",
        "y = Y.flatten()\n",
        "dim = y.size\n",
        "\n",
        "yul = Y[:10, :10]\n",
        "yur = Y[:10, -10:]\n",
        "yll = Y[-10:, :10]\n",
        "ylr = Y[-10:, -10:]\n",
        "corners = np.block([[yul, yur],\n",
        "              [yll, ylr]])\n",
        "\n",
        "\n",
        "corners_flat = corners.flatten()\n",
        "\n",
        "stacked_corners = np.tile(corners_flat, 4)\n",
        "stacked_corners = stacked_corners[:dim]\n",
        "\n",
        "num_rows_corners = stacked_corners.shape[0]\n",
        "size_of_A = (dim//2)*dim\n",
        "\n",
        "sampled_indices = np.random.randint(0, num_rows_corners, size=size_of_A)\n",
        "\n",
        "# Create the new matrix by sampling rows from corners using the generated indices\n",
        "A = stacked_corners[sampled_indices]\n",
        "A = A.reshape((dim//2),dim)\n",
        "\n",
        "b = A@y\n",
        "\n",
        "ysparsereal = cvx.Variable(dim)\n",
        "obj = cvx.Minimize(cvx.norm(ysparsereal, 1))\n",
        "constraints = [cvx.norm(A@ysparsereal - b.real,2) <= 1e-12]\n",
        "prob = cvx.Problem(obj, constraints)\n",
        "result = prob.solve()\n",
        "\n",
        "ysparseimag = cvx.Variable(dim)\n",
        "obj = cvx.Minimize(cvx.norm(ysparseimag, 1))\n",
        "constraints = [cvx.norm(A@ysparseimag - b.imag,2) <= 1e-12]\n",
        "prob = cvx.Problem(obj, constraints)\n",
        "result = prob.solve()\n",
        "\n",
        "ysparse = ysparsereal.value + ysparseimag.value*1j\n",
        "Ysparse = ysparse.reshape((width,height))\n",
        "\n",
        "LL = Ysparse[:(width//2), :(height//2)]\n",
        "HL = Ysparse[:(width//2), -(height//2):]\n",
        "LH = Ysparse[-(width//2):, :(height//2)]\n",
        "HH = Ysparse[-(width//2):, -(height//2):]\n",
        "\n",
        "coeffs = (LL, (HL, LH, HH))\n",
        "Xhat = pywt.idwt2(coeffs, 'db1').real"
      ],
      "metadata": {
        "id": "OE9X7BbggM4P"
      },
      "execution_count": 5,
      "outputs": []
    },
    {
      "cell_type": "code",
      "source": [
        "norm_orig = X/255\n",
        "norm_result = Xhat/255\n",
        "print(mse(norm_orig, norm_result))\n",
        "print(mse(X,Xhat))\n",
        "print(mad(X, Xhat))"
      ],
      "metadata": {
        "id": "am87bhHcGdHV",
        "outputId": "f9d6ca02-a5e2-4d52-b838-57ce9b8a4775",
        "colab": {
          "base_uri": "https://localhost:8080/"
        }
      },
      "execution_count": 9,
      "outputs": [
        {
          "output_type": "stream",
          "name": "stdout",
          "text": [
            "0.008018356843727354\n",
            "521.3936537633712\n",
            "16.327162911645978\n"
          ]
        }
      ]
    }
  ],
  "metadata": {
    "accelerator": "GPU",
    "colab": {
      "gpuType": "L4",
      "provenance": []
    },
    "kernelspec": {
      "display_name": "Python 3",
      "name": "python3"
    },
    "language_info": {
      "name": "python"
    }
  },
  "nbformat": 4,
  "nbformat_minor": 0
}