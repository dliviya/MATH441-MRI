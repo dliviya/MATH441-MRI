{
 "cells": [
  {
   "cell_type": "code",
   "execution_count": 1,
   "id": "c237215f-712e-4f0b-aa4f-6d489821fb4f",
   "metadata": {
    "tags": []
   },
   "outputs": [
    {
     "name": "stdout",
     "output_type": "stream",
     "text": [
      "(CVXPY) Mar 27 09:36:51 AM: Encountered unexpected exception importing solver GLOP:\n",
      "RuntimeError('Unrecognized new version of ortools (9.9.3963). Expected < 9.8.0. Please open a feature request on cvxpy to enable support for this version.')\n",
      "(CVXPY) Mar 27 09:36:51 AM: Encountered unexpected exception importing solver PDLP:\n",
      "RuntimeError('Unrecognized new version of ortools (9.9.3963). Expected < 9.8.0. Please open a feature request on cvxpy to enable support for this version.')\n"
     ]
    }
   ],
   "source": [
    "import numpy as np\n",
    "import matplotlib as mpl\n",
    "import matplotlib.pyplot as plt\n",
    "import scipy.optimize as spopt\n",
    "import scipy.fftpack as spfft\n",
    "import scipy.ndimage as spimg\n",
    "import cvxpy as cvx\n",
    "from PIL import Image "
   ]
  },
  {
   "cell_type": "code",
   "execution_count": 2,
   "id": "3cf82310-81ba-4ff8-ac73-3a3a13a088dd",
   "metadata": {
    "tags": []
   },
   "outputs": [],
   "source": [
    "X_full = mpl.pyplot.imread('face.jpeg') #loading image\n",
    "X_full = X_full.mean(axis=2) #changing it to \"grayscale\"\n",
    "X = spimg.zoom(X_full, 0.15) #downsizing image\n",
    "height,width = X.shape #getting height and width of image"
   ]
  },
  {
   "cell_type": "code",
   "execution_count": 3,
   "id": "b5108436-a4e9-4c68-8bcc-731ec160c91b",
   "metadata": {
    "tags": []
   },
   "outputs": [
    {
     "data": {
      "text/plain": [
       "<matplotlib.image.AxesImage at 0x160e3ba10>"
      ]
     },
     "execution_count": 3,
     "metadata": {},
     "output_type": "execute_result"
    },
    {
     "data": {
      "image/png": "[encoded data removed]",
      "text/plain": [
       "<Figure size 640x480 with 1 Axes>"
      ]
     },
     "metadata": {},
     "output_type": "display_data"
    }
   ],
   "source": [
    "plt.imshow(X)"
   ]
  },
  {
   "cell_type": "code",
   "execution_count": 4,
   "id": "6f3c60a7-e360-4f2e-84b4-aa8e53a01c9e",
   "metadata": {},
   "outputs": [],
   "source": [
    "Y = np.fft.fft2(X)"
   ]
  },
  {
   "cell_type": "code",
   "execution_count": 5,
   "id": "81bbb431-78ba-48ca-a0b0-093c86011f55",
   "metadata": {
    "tags": []
   },
   "outputs": [],
   "source": [
    "width, height = Y.shape"
   ]
  },
  {
   "cell_type": "code",
   "execution_count": 6,
   "id": "34a07953-fbbb-4a4a-8010-de09c9c50e5d",
   "metadata": {
    "tags": []
   },
   "outputs": [],
   "source": [
    "y = Y.flatten()"
   ]
  },
  {
   "cell_type": "code",
   "execution_count": 7,
   "id": "079c6b22-4e66-423e-94fa-0c3d27e91fc0",
   "metadata": {
    "tags": []
   },
   "outputs": [
    {
     "data": {
      "text/plain": [
       "(1444,)"
      ]
     },
     "execution_count": 7,
     "metadata": {},
     "output_type": "execute_result"
    }
   ],
   "source": [
    "y.shape"
   ]
  },
  {
   "cell_type": "code",
   "execution_count": 8,
   "id": "c6161ab7-cb4b-4e6e-acd3-a29054ba324b",
   "metadata": {
    "tags": []
   },
   "outputs": [],
   "source": [
    "Yz = Y.copy()\n",
    "Yz[np.abs(Yz) < 1000] = 0."
   ]
  },
  {
   "cell_type": "code",
   "execution_count": 9,
   "id": "12ceb673-976c-4da0-a231-0e3f9ea90e5e",
   "metadata": {
    "tags": []
   },
   "outputs": [
    {
     "data": {
      "text/plain": [
       "527"
      ]
     },
     "execution_count": 9,
     "metadata": {},
     "output_type": "execute_result"
    }
   ],
   "source": [
    "np.count_nonzero(Yz.real)"
   ]
  },
  {
   "cell_type": "code",
   "execution_count": 10,
   "id": "da521ba9-6e61-424e-a337-939c5acdbca9",
   "metadata": {
    "tags": []
   },
   "outputs": [
    {
     "data": {
      "text/plain": [
       "<matplotlib.image.AxesImage at 0x160ebe350>"
      ]
     },
     "execution_count": 10,
     "metadata": {},
     "output_type": "execute_result"
    },
    {
     "data": {
      "image/png": "[encoded data removed]",
      "text/plain": [
       "<Figure size 640x480 with 1 Axes>"
      ]
     },
     "metadata": {},
     "output_type": "display_data"
    }
   ],
   "source": [
    "plt.imshow(Yz.real)"
   ]
  },
  {
   "cell_type": "code",
   "execution_count": 11,
   "id": "2e9ed858-ec7e-41a9-92f1-415be1ac707f",
   "metadata": {
    "tags": []
   },
   "outputs": [],
   "source": [
    "yz = Yz.flatten()"
   ]
  },
  {
   "cell_type": "code",
   "execution_count": 12,
   "id": "02140d2b-73bd-43bd-94a8-de388867600b",
   "metadata": {
    "tags": []
   },
   "outputs": [],
   "source": [
    "dim = yz.size"
   ]
  },
  {
   "cell_type": "code",
   "execution_count": 13,
   "id": "078eb03f-ad04-4527-af63-4c480deb3981",
   "metadata": {
    "tags": []
   },
   "outputs": [],
   "source": [
    "# A = np.random.randint(0,2,size=(1444//2,1444))\n",
    "# A.shape"
   ]
  },
  {
   "cell_type": "code",
   "execution_count": null,
   "id": "94b92b8f-309d-447f-a0e3-c2627a6540dc",
   "metadata": {},
   "outputs": [],
   "source": []
  },
  {
   "cell_type": "code",
   "execution_count": 14,
   "id": "0d8e7529-aa1d-4a86-9dc7-4736c6d7cab8",
   "metadata": {
    "tags": []
   },
   "outputs": [],
   "source": [
    "# A = np.random.randint(0,2,size=(1444//2,1444))\n",
    "square_size = 2\n",
    "yul = Yz[:square_size, :square_size]\n",
    "yur = Yz[:square_size, -square_size:]\n",
    "yll = Yz[-square_size:, :square_size]\n",
    "ylr = Yz[-square_size:, -square_size:]\n",
    "\n",
    "corners = np.block([[yul, yur],\n",
    "              [yll, ylr]])"
   ]
  },
  {
   "cell_type": "code",
   "execution_count": 15,
   "id": "4d755ca3-af25-4e04-89e9-f4bc827adabf",
   "metadata": {
    "tags": []
   },
   "outputs": [],
   "source": [
    "corners_flat = corners.flatten()"
   ]
  },
  {
   "cell_type": "code",
   "execution_count": 16,
   "id": "492966fd-8c2b-4d2a-b36a-871319640809",
   "metadata": {
    "tags": []
   },
   "outputs": [
    {
     "data": {
      "text/plain": [
       "(64,)"
      ]
     },
     "execution_count": 16,
     "metadata": {},
     "output_type": "execute_result"
    }
   ],
   "source": [
    "stacked_corners = np.tile(corners_flat, 4)\n",
    "stacked_corners = stacked_corners[:dim]\n",
    "stacked_corners.shape"
   ]
  },
  {
   "cell_type": "code",
   "execution_count": 17,
   "id": "51492692-856a-4b46-ab64-801c121a0932",
   "metadata": {
    "tags": []
   },
   "outputs": [
    {
     "data": {
      "text/plain": [
       "(64,)"
      ]
     },
     "execution_count": 17,
     "metadata": {},
     "output_type": "execute_result"
    }
   ],
   "source": [
    "stacked_corners.shape"
   ]
  },
  {
   "cell_type": "code",
   "execution_count": 18,
   "id": "2c2634de-930f-402b-bedd-a5117e001cc9",
   "metadata": {
    "tags": []
   },
   "outputs": [
    {
     "data": {
      "text/plain": [
       "(1444,)"
      ]
     },
     "execution_count": 18,
     "metadata": {},
     "output_type": "execute_result"
    }
   ],
   "source": [
    "yz.shape"
   ]
  },
  {
   "cell_type": "code",
   "execution_count": 19,
   "id": "ce781ead-1e8d-41e8-b8f0-a3c64ed0cd83",
   "metadata": {
    "tags": []
   },
   "outputs": [],
   "source": [
    "num_rows_corners = stacked_corners.shape[0]\n",
    "size_of_A = (dim//2)*dim\n",
    "\n",
    "# sampled_indices = np.random.randint(0, num_rows_corners, size=size_of_A)\n",
    "sampled_indices = np.random.randint(0, size_of_A, size=size_of_A//10)\n",
    "\n",
    "# Create the new matrix by sampling rows from corners using the generated indices\n",
    "# A = stacked_corners[sampled_indices]\n",
    "# b = stacked_corners[sampled_indices]\n",
    "# A = np.zeros(size_of_A)\n",
    "# A[sampled_indices] = 1.\n",
    "# A.reshape(722,1444)\n",
    "# b = A@yz\n",
    "A = np.zeros(size_of_A)\n",
    "A[sampled_indices] = 1.\n",
    "A = A.reshape(dim//2,dim)\n",
    "yz = yz.reshape((-1, 1))\n",
    "\n",
    "#A = A.reshape(722,1444)\n",
    "#A.shape"
   ]
  },
  {
   "cell_type": "code",
   "execution_count": 20,
   "id": "ded1baa8-fba4-42e3-a71d-54fe87a9b888",
   "metadata": {
    "tags": []
   },
   "outputs": [
    {
     "data": {
      "text/plain": [
       "array([[0., 0., 0., ..., 0., 0., 0.],\n",
       "       [0., 0., 0., ..., 0., 1., 0.],\n",
       "       [0., 0., 0., ..., 0., 0., 0.],\n",
       "       ...,\n",
       "       [0., 0., 0., ..., 0., 0., 1.],\n",
       "       [0., 1., 1., ..., 0., 0., 0.],\n",
       "       [0., 0., 0., ..., 0., 0., 0.]])"
      ]
     },
     "execution_count": 20,
     "metadata": {},
     "output_type": "execute_result"
    }
   ],
   "source": [
    "A"
   ]
  },
  {
   "cell_type": "code",
   "execution_count": 21,
   "id": "8c2541f7-820f-4df5-aabc-8d9e426d4daf",
   "metadata": {
    "tags": []
   },
   "outputs": [],
   "source": [
    "# stacked_corners.shape"
   ]
  },
  {
   "cell_type": "code",
   "execution_count": 22,
   "id": "da5c2c34-a1a2-41fe-b22d-451eb0ba40e4",
   "metadata": {
    "tags": []
   },
   "outputs": [],
   "source": [
    "b = A@yz"
   ]
  },
  {
   "cell_type": "code",
   "execution_count": 23,
   "id": "39f9a7a8-1270-4093-a3fa-824243efcc41",
   "metadata": {
    "tags": []
   },
   "outputs": [
    {
     "name": "stderr",
     "output_type": "stream",
     "text": [
      "/Users/Divya/anaconda3/lib/python3.11/site-packages/cvxpy/reductions/solvers/solving_chain.py:336: FutureWarning: \n",
      "    Your problem is being solved with the ECOS solver by default. Starting in \n",
      "    CVXPY 1.5.0, Clarabel will be used as the default solver instead. To continue \n",
      "    using ECOS, specify the ECOS solver explicitly using the ``solver=cp.ECOS`` \n",
      "    argument to the ``problem.solve`` method.\n",
      "    \n",
      "  warnings.warn(ECOS_DEPRECATION_MSG, FutureWarning)\n"
     ]
    }
   ],
   "source": [
    "ysparsereal = cvx.Variable(dim)\n",
    "ysparsereal = ysparsereal.reshape((-1, 1))\n",
    "obj = cvx.Minimize(cvx.norm(ysparsereal, 1))\n",
    "constraints = [cvx.norm(A@ysparsereal - b.real,2) <= 1e-8]\n",
    "prob = cvx.Problem(obj, constraints)\n",
    "result = prob.solve()"
   ]
  },
  {
   "cell_type": "code",
   "execution_count": 24,
   "id": "d1b4e129-f239-4916-8645-db9c0006642d",
   "metadata": {
    "tags": []
   },
   "outputs": [],
   "source": [
    "ysparseimag = cvx.Variable(dim)\n",
    "ysparseimag = ysparseimag.reshape((-1, 1))\n",
    "obj = cvx.Minimize(cvx.norm(ysparseimag, 1))\n",
    "constraints = [cvx.norm(A@ysparseimag - b.imag,2) <= 1e-8]\n",
    "prob = cvx.Problem(obj, constraints)\n",
    "result = prob.solve()"
   ]
  },
  {
   "cell_type": "code",
   "execution_count": 25,
   "id": "bf774ce8-068e-4b8a-b674-8b5b732d374e",
   "metadata": {
    "tags": []
   },
   "outputs": [],
   "source": [
    "ysparse = ysparsereal.value + ysparseimag.value*1j"
   ]
  },
  {
   "cell_type": "code",
   "execution_count": 26,
   "id": "b80c4e7e-24ea-4461-9fcb-dceb59205fb9",
   "metadata": {
    "tags": []
   },
   "outputs": [],
   "source": [
    "Ysparse = ysparse.reshape((width,height))"
   ]
  },
  {
   "cell_type": "code",
   "execution_count": 27,
   "id": "56984a47-8c0c-4e91-a12d-673b667b63e9",
   "metadata": {
    "tags": []
   },
   "outputs": [
    {
     "data": {
      "text/plain": [
       "1243"
      ]
     },
     "execution_count": 27,
     "metadata": {},
     "output_type": "execute_result"
    }
   ],
   "source": [
    "np.count_nonzero(Ysparse.real.round(6))"
   ]
  },
  {
   "cell_type": "code",
   "execution_count": 28,
   "id": "5cfbf817-7611-4c29-9ce5-ded6ddcbaa80",
   "metadata": {
    "tags": []
   },
   "outputs": [],
   "source": [
    "Xhat = np.fft.ifft2(Ysparse).real"
   ]
  },
  {
   "cell_type": "code",
   "execution_count": 29,
   "id": "4d50bfab-83c7-46dc-90c2-47bfae8d32e4",
   "metadata": {
    "tags": []
   },
   "outputs": [
    {
     "data": {
      "image/png": "[encoded data removed]",
      "text/plain": [
       "<Figure size 1000x500 with 2 Axes>"
      ]
     },
     "metadata": {},
     "output_type": "display_data"
    }
   ],
   "source": [
    "plt.figure(figsize=(10, 5))\n",
    "plt.subplot(1, 2, 1)\n",
    "plt.imshow(X)\n",
    "plt.title('Original Image')\n",
    "\n",
    "plt.subplot(1, 2, 2)\n",
    "plt.imshow(Xhat)\n",
    "plt.title('Reconstructed Image')\n",
    "\n",
    "plt.show()"
   ]
  },
  {
   "cell_type": "code",
   "execution_count": 30,
   "id": "1c9b540e-fd4a-471a-b23c-3a4880db0aff",
   "metadata": {
    "tags": []
   },
   "outputs": [
    {
     "data": {
      "text/plain": [
       "<matplotlib.image.AxesImage at 0x1620b7c90>"
      ]
     },
     "execution_count": 30,
     "metadata": {},
     "output_type": "execute_result"
    },
    {
     "data": {
      "image/png": "[encoded data removed]",
      "text/plain": [
       "<Figure size 640x480 with 1 Axes>"
      ]
     },
     "metadata": {},
     "output_type": "display_data"
    }
   ],
   "source": [
    "plt.imshow(Xhat)"
   ]
  },
  {
   "cell_type": "code",
   "execution_count": 31,
   "id": "78693636-26d5-4ec7-8fb2-d9c1d698e374",
   "metadata": {
    "tags": []
   },
   "outputs": [
    {
     "data": {
      "text/plain": [
       "<matplotlib.image.AxesImage at 0x162134810>"
      ]
     },
     "execution_count": 31,
     "metadata": {},
     "output_type": "execute_result"
    },
    {
     "data": {
      "image/png": "[encoded data removed]",
      "text/plain": [
       "<Figure size 640x480 with 1 Axes>"
      ]
     },
     "metadata": {},
     "output_type": "display_data"
    }
   ],
   "source": [
    "plt.imshow(Y.imag)"
   ]
  },
  {
   "cell_type": "code",
   "execution_count": null,
   "id": "db6e4117-87c0-4d8f-936f-a73142d8188b",
   "metadata": {},
   "outputs": [],
   "source": []
  },
  {
   "cell_type": "code",
   "execution_count": null,
   "id": "b825fbb9-3a28-4442-b08d-a089384016b9",
   "metadata": {},
   "outputs": [],
   "source": []
  }
 ],
 "metadata": {
  "kernelspec": {
   "display_name": "Python 3 (ipykernel)",
   "language": "python",
   "name": "python3"
  },
  "language_info": {
   "codemirror_mode": {
    "name": "ipython",
    "version": 3
   },
   "file_extension": ".py",
   "mimetype": "text/x-python",
   "name": "python",
   "nbconvert_exporter": "python",
   "pygments_lexer": "ipython3",
   "version": "3.11.5"
  }
 },
 "nbformat": 4,
 "nbformat_minor": 5
}
