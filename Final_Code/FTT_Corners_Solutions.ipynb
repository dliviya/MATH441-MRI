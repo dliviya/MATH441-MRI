{
 "cells": [
  {
   "cell_type": "code",
   "execution_count": 1,
   "id": "c237215f-712e-4f0b-aa4f-6d489821fb4f",
   "metadata": {
    "tags": []
   },
   "outputs": [
    {
     "name": "stdout",
     "output_type": "stream",
     "text": [
      "(CVXPY) Apr 11 10:42:54 PM: Encountered unexpected exception importing solver GLOP:\n",
      "RuntimeError('Unrecognized new version of ortools (9.9.3963). Expected < 9.8.0. Please open a feature request on cvxpy to enable support for this version.')\n",
      "(CVXPY) Apr 11 10:42:54 PM: Encountered unexpected exception importing solver PDLP:\n",
      "RuntimeError('Unrecognized new version of ortools (9.9.3963). Expected < 9.8.0. Please open a feature request on cvxpy to enable support for this version.')\n"
     ]
    }
   ],
   "source": [
    "import numpy as np\n",
    "import matplotlib as mpl\n",
    "import matplotlib.pyplot as plt\n",
    "import scipy.optimize as spopt\n",
    "import scipy.fftpack as spfft\n",
    "import scipy.ndimage as spimg\n",
    "import cvxpy as cvx\n",
    "from PIL import Image "
   ]
  },
  {
   "cell_type": "code",
   "execution_count": 2,
   "id": "3046e0cb-34b9-4950-9020-095de97c2195",
   "metadata": {},
   "outputs": [],
   "source": [
    "# Defining code to test metrics\n",
    "def mse(image1, image2):\n",
    "    squared_diff = (image1 - image2) ** 2\n",
    "    mse = squared_diff.mean()\n",
    "    return mse\n",
    "def mad(image1, image2):\n",
    "  diff = image1 - image2\n",
    "  return np.mean(abs(diff))"
   ]
  },
  {
   "cell_type": "code",
   "execution_count": 3,
   "id": "3cf82310-81ba-4ff8-ac73-3a3a13a088dd",
   "metadata": {
    "tags": []
   },
   "outputs": [],
   "source": [
    "X_full = mpl.pyplot.imread('face.jpeg') #loading image\n",
    "X_full = X_full.mean(axis=2) #changing it to \"grayscale\"\n",
    "X = spimg.zoom(X_full, 0.15) #downsizing image\n",
    "height,width = X.shape #getting height and width of image"
   ]
  },
  {
   "cell_type": "code",
   "execution_count": 4,
   "id": "b5108436-a4e9-4c68-8bcc-731ec160c91b",
   "metadata": {
    "tags": []
   },
   "outputs": [
    {
     "data": {
      "text/plain": [
       "<matplotlib.image.AxesImage at 0x11f1215d0>"
      ]
     },
     "execution_count": 4,
     "metadata": {},
     "output_type": "execute_result"
    },
    {
     "data": {
      "image/png": "[encoded data removed]",
      "text/plain": [
       "<Figure size 640x480 with 1 Axes>"
      ]
     },
     "metadata": {},
     "output_type": "display_data"
    }
   ],
   "source": [
    "plt.imshow(X)"
   ]
  },
  {
   "cell_type": "code",
   "execution_count": 5,
   "id": "6f3c60a7-e360-4f2e-84b4-aa8e53a01c9e",
   "metadata": {},
   "outputs": [],
   "source": [
    "Y = np.fft.fft2(X) #take fourier transform"
   ]
  },
  {
   "cell_type": "code",
   "execution_count": 6,
   "id": "81bbb431-78ba-48ca-a0b0-093c86011f55",
   "metadata": {
    "tags": []
   },
   "outputs": [],
   "source": [
    "width, height = Y.shape"
   ]
  },
  {
   "cell_type": "code",
   "execution_count": 7,
   "id": "34a07953-fbbb-4a4a-8010-de09c9c50e5d",
   "metadata": {
    "tags": []
   },
   "outputs": [],
   "source": [
    "y = Y.flatten()"
   ]
  },
  {
   "cell_type": "code",
   "execution_count": 8,
   "id": "c6161ab7-cb4b-4e6e-acd3-a29054ba324b",
   "metadata": {
    "tags": []
   },
   "outputs": [],
   "source": [
    "Yz = Y.copy()\n",
    "Yz[np.abs(Yz) < 1000] = 0. #filter out values below a certain threshold"
   ]
  },
  {
   "cell_type": "code",
   "execution_count": 9,
   "id": "da521ba9-6e61-424e-a337-939c5acdbca9",
   "metadata": {
    "tags": []
   },
   "outputs": [
    {
     "data": {
      "text/plain": [
       "<matplotlib.image.AxesImage at 0x120305cd0>"
      ]
     },
     "execution_count": 9,
     "metadata": {},
     "output_type": "execute_result"
    },
    {
     "data": {
      "image/png": "[encoded data removed]",
      "text/plain": [
       "<Figure size 640x480 with 1 Axes>"
      ]
     },
     "metadata": {},
     "output_type": "display_data"
    }
   ],
   "source": [
    "plt.imshow(Yz.real)"
   ]
  },
  {
   "cell_type": "code",
   "execution_count": 10,
   "id": "2e9ed858-ec7e-41a9-92f1-415be1ac707f",
   "metadata": {
    "tags": []
   },
   "outputs": [],
   "source": [
    "yz = Yz.flatten()"
   ]
  },
  {
   "cell_type": "code",
   "execution_count": 11,
   "id": "02140d2b-73bd-43bd-94a8-de388867600b",
   "metadata": {
    "tags": []
   },
   "outputs": [],
   "source": [
    "dim = yz.size"
   ]
  },
  {
   "cell_type": "code",
   "execution_count": 12,
   "id": "0d8e7529-aa1d-4a86-9dc7-4736c6d7cab8",
   "metadata": {
    "tags": []
   },
   "outputs": [],
   "source": [
    "# Choosing samples from corners\n",
    "square_size = 2\n",
    "yul = Yz[:square_size, :square_size]\n",
    "yur = Yz[:square_size, -square_size:]\n",
    "yll = Yz[-square_size:, :square_size]\n",
    "ylr = Yz[-square_size:, -square_size:]\n",
    "\n",
    "corners = np.block([[yul, yur],\n",
    "              [yll, ylr]])"
   ]
  },
  {
   "cell_type": "code",
   "execution_count": 13,
   "id": "4d755ca3-af25-4e04-89e9-f4bc827adabf",
   "metadata": {
    "tags": []
   },
   "outputs": [],
   "source": [
    "corners_flat = corners.flatten()"
   ]
  },
  {
   "cell_type": "code",
   "execution_count": 14,
   "id": "492966fd-8c2b-4d2a-b36a-871319640809",
   "metadata": {
    "tags": []
   },
   "outputs": [
    {
     "data": {
      "text/plain": [
       "(64,)"
      ]
     },
     "execution_count": 14,
     "metadata": {},
     "output_type": "execute_result"
    }
   ],
   "source": [
    "# Stacking corners so we can sample from it later\n",
    "stacked_corners = np.tile(corners_flat, 4)\n",
    "stacked_corners = stacked_corners[:dim]\n",
    "stacked_corners.shape"
   ]
  },
  {
   "cell_type": "code",
   "execution_count": 15,
   "id": "ce781ead-1e8d-41e8-b8f0-a3c64ed0cd83",
   "metadata": {
    "tags": []
   },
   "outputs": [],
   "source": [
    "num_rows_corners = stacked_corners.shape[0]\n",
    "size_of_A = (dim//2)*dim\n",
    "\n",
    "sampled_indices = np.random.randint(0, num_rows_corners, size=size_of_A)\n",
    "\n",
    "# Create the new matrix by sampling rows from corners using the generated indices\n",
    "A = stacked_corners[sampled_indices]\n",
    "A = A.reshape(dim//2,dim)\n",
    "yz = yz.reshape((-1, 1))\n"
   ]
  },
  {
   "cell_type": "code",
   "execution_count": 16,
   "id": "da5c2c34-a1a2-41fe-b22d-451eb0ba40e4",
   "metadata": {
    "tags": []
   },
   "outputs": [],
   "source": [
    "b = A@yz"
   ]
  },
  {
   "cell_type": "code",
   "execution_count": 17,
   "id": "39f9a7a8-1270-4093-a3fa-824243efcc41",
   "metadata": {
    "tags": []
   },
   "outputs": [
    {
     "name": "stderr",
     "output_type": "stream",
     "text": [
      "/Users/Divya/anaconda3/lib/python3.11/site-packages/cvxpy/reductions/solvers/solving_chain.py:336: FutureWarning: \n",
      "    Your problem is being solved with the ECOS solver by default. Starting in \n",
      "    CVXPY 1.5.0, Clarabel will be used as the default solver instead. To continue \n",
      "    using ECOS, specify the ECOS solver explicitly using the ``solver=cp.ECOS`` \n",
      "    argument to the ``problem.solve`` method.\n",
      "    \n",
      "  warnings.warn(ECOS_DEPRECATION_MSG, FutureWarning)\n"
     ]
    },
    {
     "ename": "SolverError",
     "evalue": "Solver 'ECOS' failed. Try another solver, or solve with verbose=True for more information.",
     "output_type": "error",
     "traceback": [
      "\u001b[0;31m---------------------------------------------------------------------------\u001b[0m",
      "\u001b[0;31mSolverError\u001b[0m                               Traceback (most recent call last)",
      "Cell \u001b[0;32mIn[17], line 6\u001b[0m\n\u001b[1;32m      4\u001b[0m constraints \u001b[38;5;241m=\u001b[39m [cvx\u001b[38;5;241m.\u001b[39mnorm(A\u001b[38;5;129m@ysparsereal\u001b[39m \u001b[38;5;241m-\u001b[39m b\u001b[38;5;241m.\u001b[39mreal,\u001b[38;5;241m2\u001b[39m) \u001b[38;5;241m<\u001b[39m\u001b[38;5;241m=\u001b[39m \u001b[38;5;241m1e-8\u001b[39m]\n\u001b[1;32m      5\u001b[0m prob \u001b[38;5;241m=\u001b[39m cvx\u001b[38;5;241m.\u001b[39mProblem(obj, constraints)\n\u001b[0;32m----> 6\u001b[0m result \u001b[38;5;241m=\u001b[39m prob\u001b[38;5;241m.\u001b[39msolve()\n",
      "File \u001b[0;32m~/anaconda3/lib/python3.11/site-packages/cvxpy/problems/problem.py:503\u001b[0m, in \u001b[0;36mProblem.solve\u001b[0;34m(self, *args, **kwargs)\u001b[0m\n\u001b[1;32m    501\u001b[0m \u001b[38;5;28;01melse\u001b[39;00m:\n\u001b[1;32m    502\u001b[0m     solve_func \u001b[38;5;241m=\u001b[39m Problem\u001b[38;5;241m.\u001b[39m_solve\n\u001b[0;32m--> 503\u001b[0m \u001b[38;5;28;01mreturn\u001b[39;00m solve_func(\u001b[38;5;28mself\u001b[39m, \u001b[38;5;241m*\u001b[39margs, \u001b[38;5;241m*\u001b[39m\u001b[38;5;241m*\u001b[39mkwargs)\n",
      "File \u001b[0;32m~/anaconda3/lib/python3.11/site-packages/cvxpy/problems/problem.py:1086\u001b[0m, in \u001b[0;36mProblem._solve\u001b[0;34m(self, solver, warm_start, verbose, gp, qcp, requires_grad, enforce_dpp, ignore_dpp, canon_backend, **kwargs)\u001b[0m\n\u001b[1;32m   1084\u001b[0m end \u001b[38;5;241m=\u001b[39m time\u001b[38;5;241m.\u001b[39mtime()\n\u001b[1;32m   1085\u001b[0m \u001b[38;5;28mself\u001b[39m\u001b[38;5;241m.\u001b[39m_solve_time \u001b[38;5;241m=\u001b[39m end \u001b[38;5;241m-\u001b[39m start\n\u001b[0;32m-> 1086\u001b[0m \u001b[38;5;28mself\u001b[39m\u001b[38;5;241m.\u001b[39munpack_results(solution, solving_chain, inverse_data)\n\u001b[1;32m   1087\u001b[0m \u001b[38;5;28;01mif\u001b[39;00m verbose:\n\u001b[1;32m   1088\u001b[0m     \u001b[38;5;28mprint\u001b[39m(_FOOTER)\n",
      "File \u001b[0;32m~/anaconda3/lib/python3.11/site-packages/cvxpy/problems/problem.py:1411\u001b[0m, in \u001b[0;36mProblem.unpack_results\u001b[0;34m(self, solution, chain, inverse_data)\u001b[0m\n\u001b[1;32m   1409\u001b[0m     warnings\u001b[38;5;241m.\u001b[39mwarn(INF_OR_UNB_MESSAGE)\n\u001b[1;32m   1410\u001b[0m \u001b[38;5;28;01mif\u001b[39;00m solution\u001b[38;5;241m.\u001b[39mstatus \u001b[38;5;129;01min\u001b[39;00m s\u001b[38;5;241m.\u001b[39mERROR:\n\u001b[0;32m-> 1411\u001b[0m     \u001b[38;5;28;01mraise\u001b[39;00m error\u001b[38;5;241m.\u001b[39mSolverError(\n\u001b[1;32m   1412\u001b[0m             \u001b[38;5;124m\"\u001b[39m\u001b[38;5;124mSolver \u001b[39m\u001b[38;5;124m'\u001b[39m\u001b[38;5;132;01m%s\u001b[39;00m\u001b[38;5;124m'\u001b[39m\u001b[38;5;124m failed. \u001b[39m\u001b[38;5;124m\"\u001b[39m \u001b[38;5;241m%\u001b[39m chain\u001b[38;5;241m.\u001b[39msolver\u001b[38;5;241m.\u001b[39mname() \u001b[38;5;241m+\u001b[39m\n\u001b[1;32m   1413\u001b[0m             \u001b[38;5;124m\"\u001b[39m\u001b[38;5;124mTry another solver, or solve with verbose=True for more \u001b[39m\u001b[38;5;124m\"\u001b[39m\n\u001b[1;32m   1414\u001b[0m             \u001b[38;5;124m\"\u001b[39m\u001b[38;5;124minformation.\u001b[39m\u001b[38;5;124m\"\u001b[39m)\n\u001b[1;32m   1416\u001b[0m \u001b[38;5;28mself\u001b[39m\u001b[38;5;241m.\u001b[39munpack(solution)\n\u001b[1;32m   1417\u001b[0m \u001b[38;5;28mself\u001b[39m\u001b[38;5;241m.\u001b[39m_solver_stats \u001b[38;5;241m=\u001b[39m SolverStats\u001b[38;5;241m.\u001b[39mfrom_dict(\u001b[38;5;28mself\u001b[39m\u001b[38;5;241m.\u001b[39m_solution\u001b[38;5;241m.\u001b[39mattr,\n\u001b[1;32m   1418\u001b[0m                                  chain\u001b[38;5;241m.\u001b[39msolver\u001b[38;5;241m.\u001b[39mname())\n",
      "\u001b[0;31mSolverError\u001b[0m: Solver 'ECOS' failed. Try another solver, or solve with verbose=True for more information."
     ]
    }
   ],
   "source": [
    "# Doing optimization on real part\n",
    "ysparsereal = cvx.Variable(dim)\n",
    "ysparsereal = ysparsereal.reshape((-1, 1))\n",
    "obj = cvx.Minimize(cvx.norm(ysparsereal, 1))\n",
    "constraints = [cvx.norm(A@ysparsereal - b.real,2) <= 1e-8]\n",
    "prob = cvx.Problem(obj, constraints)\n",
    "result = prob.solve()"
   ]
  },
  {
   "cell_type": "code",
   "execution_count": null,
   "id": "d1b4e129-f239-4916-8645-db9c0006642d",
   "metadata": {
    "tags": []
   },
   "outputs": [],
   "source": [
    "# Doing optimization on imaginary part\n",
    "ysparseimag = cvx.Variable(dim)\n",
    "ysparseimag = ysparseimag.reshape((-1, 1))\n",
    "obj = cvx.Minimize(cvx.norm(ysparseimag, 1))\n",
    "constraints = [cvx.norm(A@ysparseimag - b.imag,2) <= 1e-8]\n",
    "prob = cvx.Problem(obj, constraints)\n",
    "result = prob.solve()"
   ]
  },
  {
   "cell_type": "code",
   "execution_count": null,
   "id": "bf774ce8-068e-4b8a-b674-8b5b732d374e",
   "metadata": {
    "tags": []
   },
   "outputs": [],
   "source": [
    "# Joining results together\n",
    "ysparse = ysparsereal.value + ysparseimag.value*1j"
   ]
  },
  {
   "cell_type": "code",
   "execution_count": null,
   "id": "b80c4e7e-24ea-4461-9fcb-dceb59205fb9",
   "metadata": {
    "tags": []
   },
   "outputs": [],
   "source": [
    "Ysparse = ysparse.reshape((width,height))"
   ]
  },
  {
   "cell_type": "code",
   "execution_count": null,
   "id": "5cfbf817-7611-4c29-9ce5-ded6ddcbaa80",
   "metadata": {
    "tags": []
   },
   "outputs": [],
   "source": [
    "# Reconstructing image\n",
    "Xhat = np.fft.ifft2(Ysparse).real"
   ]
  },
  {
   "cell_type": "code",
   "execution_count": null,
   "id": "4d50bfab-83c7-46dc-90c2-47bfae8d32e4",
   "metadata": {
    "tags": []
   },
   "outputs": [],
   "source": [
    "plt.figure(figsize=(10, 5))\n",
    "plt.subplot(1, 2, 1)\n",
    "plt.imshow(X)\n",
    "plt.title('Original Image')\n",
    "\n",
    "plt.subplot(1, 2, 2)\n",
    "plt.imshow(Xhat)\n",
    "plt.title('Reconstructed Image')\n",
    "\n",
    "plt.show()"
   ]
  },
  {
   "cell_type": "code",
   "execution_count": null,
   "id": "db6e4117-87c0-4d8f-936f-a73142d8188b",
   "metadata": {},
   "outputs": [],
   "source": [
    "norm_orig = X/255\n",
    "norm_result = Xhat/255\n",
    "print(mse(norm_orig, norm_result))\n",
    "print(mse(X,Xhat))\n",
    "print(mad(X, Xhat))"
   ]
  },
  {
   "cell_type": "code",
   "execution_count": null,
   "id": "b825fbb9-3a28-4442-b08d-a089384016b9",
   "metadata": {},
   "outputs": [],
   "source": []
  }
 ],
 "metadata": {
  "kernelspec": {
   "display_name": "Python 3 (ipykernel)",
   "language": "python",
   "name": "python3"
  },
  "language_info": {
   "codemirror_mode": {
    "name": "ipython",
    "version": 3
   },
   "file_extension": ".py",
   "mimetype": "text/x-python",
   "name": "python",
   "nbconvert_exporter": "python",
   "pygments_lexer": "ipython3",
   "version": "3.11.5"
  }
 },
 "nbformat": 4,
 "nbformat_minor": 5
}
