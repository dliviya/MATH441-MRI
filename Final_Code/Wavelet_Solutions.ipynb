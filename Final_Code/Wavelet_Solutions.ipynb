{
 "cells": [
  {
   "cell_type": "code",
   "execution_count": 1,
   "id": "c237215f-712e-4f0b-aa4f-6d489821fb4f",
   "metadata": {
    "tags": []
   },
   "outputs": [
    {
     "name": "stdout",
     "output_type": "stream",
     "text": [
      "(CVXPY) Apr 11 10:47:38 PM: Encountered unexpected exception importing solver GLOP:\n",
      "RuntimeError('Unrecognized new version of ortools (9.9.3963). Expected < 9.8.0. Please open a feature request on cvxpy to enable support for this version.')\n",
      "(CVXPY) Apr 11 10:47:38 PM: Encountered unexpected exception importing solver PDLP:\n",
      "RuntimeError('Unrecognized new version of ortools (9.9.3963). Expected < 9.8.0. Please open a feature request on cvxpy to enable support for this version.')\n"
     ]
    }
   ],
   "source": [
    "import numpy as np\n",
    "import matplotlib as mpl\n",
    "import matplotlib.pyplot as plt\n",
    "import scipy.optimize as spopt\n",
    "import scipy.fftpack as spfft\n",
    "import scipy.ndimage as spimg\n",
    "import cvxpy as cvx\n",
    "from PIL import Image \n",
    "import pywt"
   ]
  },
  {
   "cell_type": "code",
   "execution_count": 2,
   "id": "debb8113-ddfa-4f5c-b0ce-660c1e5b1f97",
   "metadata": {},
   "outputs": [],
   "source": [
    "# Defining code to test metrics\n",
    "def mse(image1, image2):\n",
    "    squared_diff = (image1 - image2) ** 2\n",
    "    mse = squared_diff.mean()\n",
    "    return mse\n",
    "def mad(image1, image2):\n",
    "  diff = image1 - image2\n",
    "  return np.mean(abs(diff))"
   ]
  },
  {
   "cell_type": "code",
   "execution_count": 3,
   "id": "3cf82310-81ba-4ff8-ac73-3a3a13a088dd",
   "metadata": {
    "tags": []
   },
   "outputs": [],
   "source": [
    "X_full = mpl.pyplot.imread('face.jpeg') #loading image\n",
    "X_full = X_full.mean(axis=2) #changing it to \"grayscale\"\n",
    "X = spimg.zoom(X_full, 0.15) #downsizing image, 0.15 was largest before\n",
    "height,width = X.shape #getting height and width of image"
   ]
  },
  {
   "cell_type": "code",
   "execution_count": 4,
   "id": "b5108436-a4e9-4c68-8bcc-731ec160c91b",
   "metadata": {
    "tags": []
   },
   "outputs": [
    {
     "data": {
      "text/plain": [
       "<matplotlib.image.AxesImage at 0x12627dcd0>"
      ]
     },
     "execution_count": 4,
     "metadata": {},
     "output_type": "execute_result"
    },
    {
     "data": {
      "image/png": "[encoded data removed]",
      "text/plain": [
       "<Figure size 640x480 with 1 Axes>"
      ]
     },
     "metadata": {},
     "output_type": "display_data"
    }
   ],
   "source": [
    "plt.imshow(X)"
   ]
  },
  {
   "cell_type": "code",
   "execution_count": 5,
   "id": "6f3c60a7-e360-4f2e-84b4-aa8e53a01c9e",
   "metadata": {},
   "outputs": [],
   "source": [
    "Y = pywt.dwt2(X, 'db1') #taking Wavelet"
   ]
  },
  {
   "cell_type": "code",
   "execution_count": 6,
   "id": "ca48f964-db44-410f-8519-ff0ce1ebe859",
   "metadata": {
    "tags": []
   },
   "outputs": [
    {
     "data": {
      "text/plain": [
       "19"
      ]
     },
     "execution_count": 6,
     "metadata": {},
     "output_type": "execute_result"
    }
   ],
   "source": [
    "cA, (cH, cV, cD) = Y\n",
    "len(cD)"
   ]
  },
  {
   "cell_type": "code",
   "execution_count": 7,
   "id": "7fcaefce-e914-4763-88c7-4b239ab86f3d",
   "metadata": {
    "tags": []
   },
   "outputs": [],
   "source": [
    "# Using parts of wavelet transform to create image vector\n",
    "Y = np.block([\n",
    "    [cA,cH],\n",
    "    [cV,cD]\n",
    "])"
   ]
  },
  {
   "cell_type": "code",
   "execution_count": 8,
   "id": "43c738dd-2ac9-4498-8303-cedde6b434b5",
   "metadata": {
    "tags": []
   },
   "outputs": [],
   "source": [
    "y = np.array(Y)"
   ]
  },
  {
   "cell_type": "code",
   "execution_count": 9,
   "id": "81bbb431-78ba-48ca-a0b0-093c86011f55",
   "metadata": {
    "tags": []
   },
   "outputs": [],
   "source": [
    "width, height = Y.shape"
   ]
  },
  {
   "cell_type": "code",
   "execution_count": 10,
   "id": "34a07953-fbbb-4a4a-8010-de09c9c50e5d",
   "metadata": {
    "tags": []
   },
   "outputs": [],
   "source": [
    "y = Y.flatten()"
   ]
  },
  {
   "cell_type": "code",
   "execution_count": 11,
   "id": "83c38838-b83d-4981-8a58-8c863c896964",
   "metadata": {
    "tags": []
   },
   "outputs": [],
   "source": [
    "dim = y.size"
   ]
  },
  {
   "cell_type": "code",
   "execution_count": 12,
   "id": "2e973d01-6cae-473f-a951-d261f6f7bbd3",
   "metadata": {
    "tags": []
   },
   "outputs": [],
   "source": [
    "# creating sensing matrix\n",
    "A = np.random.randint(0,2,size=(dim//2,dim))"
   ]
  },
  {
   "cell_type": "code",
   "execution_count": 13,
   "id": "da5c2c34-a1a2-41fe-b22d-451eb0ba40e4",
   "metadata": {
    "tags": []
   },
   "outputs": [],
   "source": [
    "b = A@y"
   ]
  },
  {
   "cell_type": "code",
   "execution_count": 14,
   "id": "39f9a7a8-1270-4093-a3fa-824243efcc41",
   "metadata": {
    "tags": []
   },
   "outputs": [
    {
     "name": "stderr",
     "output_type": "stream",
     "text": [
      "/Users/Divya/anaconda3/lib/python3.11/site-packages/cvxpy/reductions/solvers/solving_chain.py:336: FutureWarning: \n",
      "    Your problem is being solved with the ECOS solver by default. Starting in \n",
      "    CVXPY 1.5.0, Clarabel will be used as the default solver instead. To continue \n",
      "    using ECOS, specify the ECOS solver explicitly using the ``solver=cp.ECOS`` \n",
      "    argument to the ``problem.solve`` method.\n",
      "    \n",
      "  warnings.warn(ECOS_DEPRECATION_MSG, FutureWarning)\n"
     ]
    }
   ],
   "source": [
    "# Optimization on real part\n",
    "ysparsereal = cvx.Variable(dim)\n",
    "obj = cvx.Minimize(cvx.norm(ysparsereal, 1))\n",
    "constraints = [cvx.norm(A@ysparsereal - b.real,2) <= 1e-8]\n",
    "prob = cvx.Problem(obj, constraints)\n",
    "result = prob.solve()"
   ]
  },
  {
   "cell_type": "code",
   "execution_count": 15,
   "id": "d1b4e129-f239-4916-8645-db9c0006642d",
   "metadata": {
    "tags": []
   },
   "outputs": [],
   "source": [
    "# Optimization on imaginary part\n",
    "ysparseimag = cvx.Variable(dim)\n",
    "obj = cvx.Minimize(cvx.norm(ysparseimag, 1))\n",
    "constraints = [cvx.norm(A@ysparseimag - b.imag,2) <= 1e-8]\n",
    "prob = cvx.Problem(obj, constraints)\n",
    "result = prob.solve()"
   ]
  },
  {
   "cell_type": "code",
   "execution_count": 16,
   "id": "bf774ce8-068e-4b8a-b674-8b5b732d374e",
   "metadata": {
    "tags": []
   },
   "outputs": [],
   "source": [
    "ysparse = ysparsereal.value + ysparseimag.value*1j #Joining real and imaginary to make final result"
   ]
  },
  {
   "cell_type": "code",
   "execution_count": 17,
   "id": "b80c4e7e-24ea-4461-9fcb-dceb59205fb9",
   "metadata": {
    "tags": []
   },
   "outputs": [],
   "source": [
    "Ysparse = ysparse.reshape((width,height))"
   ]
  },
  {
   "cell_type": "code",
   "execution_count": 18,
   "id": "8cbd97a9-4367-4fa8-93b1-7a2735d8feb9",
   "metadata": {
    "tags": []
   },
   "outputs": [
    {
     "data": {
      "text/plain": [
       "(<matplotlib.image.AxesImage at 0x1263ce9d0>,\n",
       " <matplotlib.colorbar.Colorbar at 0x1248ca010>)"
      ]
     },
     "execution_count": 18,
     "metadata": {},
     "output_type": "execute_result"
    },
    {
     "data": {
      "image/png": "[encoded data removed]",
      "text/plain": [
       "<Figure size 640x480 with 2 Axes>"
      ]
     },
     "metadata": {},
     "output_type": "display_data"
    }
   ],
   "source": [
    "plt.imshow(Ysparse.real), plt.colorbar()"
   ]
  },
  {
   "cell_type": "code",
   "execution_count": 19,
   "id": "975845bd-371f-4406-a6ad-66d67710aca6",
   "metadata": {
    "tags": []
   },
   "outputs": [
    {
     "data": {
      "text/plain": [
       "1404"
      ]
     },
     "execution_count": 19,
     "metadata": {},
     "output_type": "execute_result"
    }
   ],
   "source": [
    "np.count_nonzero(Ysparse.real.round(8))"
   ]
  },
  {
   "cell_type": "code",
   "execution_count": 20,
   "id": "5e11e87b-35f5-4803-9276-1cf67c28b00d",
   "metadata": {
    "tags": []
   },
   "outputs": [],
   "source": [
    "#Choosing sections of wavelet transform to keep formatting the same\n",
    "LL = Ysparse[:(width//2), :(height//2)]\n",
    "HL = Ysparse[:(width//2), -(height//2):]\n",
    "LH = Ysparse[-(width//2):, :(height//2)]\n",
    "HH = Ysparse[-(width//2):, -(height//2):]"
   ]
  },
  {
   "cell_type": "code",
   "execution_count": 21,
   "id": "680dae8a-0919-43aa-9896-ebe8d2771c32",
   "metadata": {
    "tags": []
   },
   "outputs": [],
   "source": [
    "coeffs = (LL, (HL, LH, HH))"
   ]
  },
  {
   "cell_type": "code",
   "execution_count": 22,
   "id": "5cfbf817-7611-4c29-9ce5-ded6ddcbaa80",
   "metadata": {
    "tags": []
   },
   "outputs": [],
   "source": [
    "# Reconstructing\n",
    "Xhat = pywt.idwt2(coeffs, 'db1').real"
   ]
  },
  {
   "cell_type": "code",
   "execution_count": 23,
   "id": "d6401a92-da3a-4706-8545-9af1aa76c62a",
   "metadata": {
    "tags": []
   },
   "outputs": [
    {
     "data": {
      "image/png": "[encoded data removed]",
      "text/plain": [
       "<Figure size 1000x500 with 2 Axes>"
      ]
     },
     "metadata": {},
     "output_type": "display_data"
    }
   ],
   "source": [
    "plt.figure(figsize=(10, 5))\n",
    "plt.subplot(1, 2, 1)\n",
    "plt.imshow(X)\n",
    "plt.title('Original Image')\n",
    "\n",
    "plt.subplot(1, 2, 2)\n",
    "plt.imshow(Xhat)\n",
    "plt.title('Reconstructed Image')\n",
    "\n",
    "plt.show()"
   ]
  },
  {
   "cell_type": "code",
   "execution_count": 24,
   "id": "1c9b540e-fd4a-471a-b23c-3a4880db0aff",
   "metadata": {
    "tags": []
   },
   "outputs": [
    {
     "name": "stdout",
     "output_type": "stream",
     "text": [
      "0.007938469862921021\n",
      "516.1990028364395\n",
      "16.359017903377733\n"
     ]
    }
   ],
   "source": [
    "norm_orig = X/255\n",
    "norm_result = Xhat/255\n",
    "print(mse(norm_orig, norm_result))\n",
    "print(mse(X,Xhat))\n",
    "print(mad(X, Xhat))"
   ]
  },
  {
   "cell_type": "code",
   "execution_count": null,
   "id": "e2fb6df9-098d-47f4-9e06-414a18732115",
   "metadata": {},
   "outputs": [],
   "source": []
  }
 ],
 "metadata": {
  "kernelspec": {
   "display_name": "Python 3 (ipykernel)",
   "language": "python",
   "name": "python3"
  },
  "language_info": {
   "codemirror_mode": {
    "name": "ipython",
    "version": 3
   },
   "file_extension": ".py",
   "mimetype": "text/x-python",
   "name": "python",
   "nbconvert_exporter": "python",
   "pygments_lexer": "ipython3",
   "version": "3.11.5"
  }
 },
 "nbformat": 4,
 "nbformat_minor": 5
}
